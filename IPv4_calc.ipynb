{
  "metadata": {
    "kernelspec": {
      "name": "python",
      "display_name": "Python (Pyodide)",
      "language": "python"
    },
    "language_info": {
      "codemirror_mode": {
        "name": "python",
        "version": 3
      },
      "file_extension": ".py",
      "mimetype": "text/x-python",
      "name": "python",
      "nbconvert_exporter": "python",
      "pygments_lexer": "ipython3",
      "version": "3.8"
    }
  },
  "nbformat_minor": 4,
  "nbformat": 4,
  "cells": [
    {
      "cell_type": "code",
      "source": "class IPv4:\n    def __init__(self, part1:int, part2:int, part3:int, part4:int, mask: int | str) -> None:\n        self.part1:int = part1\n        self.part2:int = part2\n        self.part3:int = part3\n        self.part4:int = part4\n        if type(mask) == int:\n            self.cidr:int = mask\n            self.mask:str = self.cidrToMask(mask)\n        elif type(mask) == str:\n            self.mask:str = mask\n            self.cidr:int = self.maskToCIDR()\n        else:\n            self.cidr:int = 0\n            self.mask:str = \"255.255.255.255\"\n        self.rangeSize: int = 2**(32-self.cidr)\n        self.usableRangeSize: int = self.rangeSize - 2\n        range_addresses = self.subnetRangeAdresses()\n        self.first_sb_adress: tuple[int] = range_addresses[0]\n        self.last_sb_adress: tuple[int] = range_addresses[1]\n\n    def __str__(self) -> str:\n        return f\"{self.part1}.{self.part2}.{self.part3}.{self.part4}\"\n\n    def __format__(self, format_spec: str) -> str:\n        match format_spec:\n            case \"cidr\":\n                return f\"{self.part1}.{self.part2}.{self.part3}.{self.part4}/{self.cidr}\"\n            case \"mask\":\n                return f\"{self.part1}.{self.part2}.{self.part3}.{self.part4}:{self.mask}\"\n        return self.__str__()\n    \n    def cidrToMask(self, cidr: int) -> str:\n        mask = 0\n        for i in range(cidr):\n            mask |= (1<<(31-i))\n        return(f\"{mask>>24}.{mask>>16&0xFF}.{mask>>8&0xFF}.{mask&0xFF}\")\n\n    def subnetRangeAdresses(self) -> tuple[int]:\n        first_sb_adress = (self.part1, self.part2, self.part3, self.part4)\n        last_sb_adress = (self.part1, self.part2, self.part3, self.part4)\n        mask = self.mask\n        mask0, mask8, mask16, mask24 = map(int, mask.split(\".\"))\n        size = 0\n        offset = 0\n        if 32 > self.cidr >= 24:\n            size = 2**(32 - self.cidr)\n            offset = self.part4 % size\n            first_sb_adress = (self.part1, self.part2, self.part3, self.part4 - offset)\n            last_sb_adress = (self.part1, self.part2, self.part3, self.part4 - offset + size - 1)\n        elif 24 > self.cidr >= 16:\n            size = 2**(24 - self.cidr)\n            offset = self.part3 % size\n            first_sb_adress = (self.part1, self.part2, self.part3 - offset, 0)\n            last_sb_adress = (self.part1, self.part2, self.part3 - offset + size - 1, 255)\n        elif 16 > self.cidr >= 8:\n            size = 2**(16 - self.cidr)\n            offset = self.part2 % size\n            first_sb_adress = (self.part1, self.part2 - offset, 0, 0)\n            last_sb_adress = (self.part1, self.part2 - offset + size - 1, 255, 255)\n        elif 8 > self.cidr >= 0:\n            size = 2**(8 - self.cidr)\n            offset = self.part1 % size\n            first_sb_adress = (self.part1 - offset, 0, 0, 0)\n            last_sb_adress = (self.part1 - offset + size - 1, 255, 255, 255)\n        return (first_sb_adress, last_sb_adress)\n\n    def networkAddress(self) -> tuple[int]:\n        mask_parts = list(map(int, self.mask.split('.')))\n        network_part1 = self.part1 & mask_parts[0]\n        network_part2 = self.part2 & mask_parts[1]\n        network_part3 = self.part3 & mask_parts[2]\n        network_part4 = self.part4 & mask_parts[3]\n        return (network_part1, network_part2, network_part3, network_part4)\n\n    def maskToCIDR(self) -> int:\n        mask_parts = self.mask.split('.')\n        cidr_count = 0\n        for part in mask_parts:\n            binary_representation = format(int(part), '08b')\n            cidr_count += binary_representation.count('1')\n        return cidr_count\n",
      "metadata": {
        "trusted": true
      },
      "outputs": [],
      "execution_count": 1
    },
    {
      "cell_type": "code",
      "source": "ip1:IPv4 = IPv4(91,59,83,39,18)\nprint(ip1.cidr)\nprint(ip1.mask)\nprint(ip1.rangeSize)\nprint(ip1.usableRangeSize)\nprint(ip1.cidrToMask(18))\n",
      "metadata": {
        "trusted": true
      },
      "outputs": [
        {
          "name": "stdout",
          "text": "18\n255.255.192.0\n16384\n16382\n255.255.192.0\n",
          "output_type": "stream"
        }
      ],
      "execution_count": 2
    },
    {
      "cell_type": "code",
      "source": "print(ip1.first_sb_adress,ip1.last_sb_adress,sep='->')",
      "metadata": {
        "trusted": true
      },
      "outputs": [
        {
          "name": "stdout",
          "text": "(91, 59, 64, 0)->(91, 59, 127, 255)\n",
          "output_type": "stream"
        }
      ],
      "execution_count": 3
    },
    {
      "cell_type": "code",
      "source": "ip23:IPv4 = IPv4(0,0,0,0,\"255.255.255.128\")\nprint(ip23.cidr)",
      "metadata": {
        "trusted": true
      },
      "outputs": [
        {
          "name": "stdout",
          "text": "25\n",
          "output_type": "stream"
        }
      ],
      "execution_count": 4
    },
    {
      "cell_type": "code",
      "source": "",
      "metadata": {
        "trusted": true
      },
      "outputs": [],
      "execution_count": null
    }
  ]
}