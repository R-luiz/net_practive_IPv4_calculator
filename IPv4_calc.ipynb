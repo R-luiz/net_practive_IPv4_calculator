{
  "metadata": {
    "kernelspec": {
      "name": "python",
      "display_name": "Python (Pyodide)",
      "language": "python"
    },
    "language_info": {
      "codemirror_mode": {
        "name": "python",
        "version": 3
      },
      "file_extension": ".py",
      "mimetype": "text/x-python",
      "name": "python",
      "nbconvert_exporter": "python",
      "pygments_lexer": "ipython3",
      "version": "3.8"
    }
  },
  "nbformat_minor": 4,
  "nbformat": 4,
  "cells": [
    {
      "cell_type": "code",
      "source": "import sys\nfrom math import *\nimport math\nsys.set_int_max_str_digits(999999999)\ndef fct(n=0):\n    yield 2**n\n    yield from fct(n+1)\ngen = fct(0)\nprint(f\"{sys.getsizeof(gen) =}\")\nfor i,j in zip(range(33),gen):\n    print(f\"2^{i} = \",j,end=' | '+\"\\n\"*(i%4==0))",
      "metadata": {
        "trusted": true
      },
      "outputs": [
        {
          "name": "stdout",
          "text": "sys.getsizeof(gen) =108\n2^0 =  1 | \n2^1 =  2 | 2^2 =  4 | 2^3 =  8 | 2^4 =  16 | \n2^5 =  32 | 2^6 =  64 | 2^7 =  128 | 2^8 =  256 | \n2^9 =  512 | 2^10 =  1024 | 2^11 =  2048 | 2^12 =  4096 | \n2^13 =  8192 | 2^14 =  16384 | 2^15 =  32768 | 2^16 =  65536 | \n2^17 =  131072 | 2^18 =  262144 | 2^19 =  524288 | 2^20 =  1048576 | \n2^21 =  2097152 | 2^22 =  4194304 | 2^23 =  8388608 | 2^24 =  16777216 | \n2^25 =  33554432 | 2^26 =  67108864 | 2^27 =  134217728 | 2^28 =  268435456 | \n2^29 =  536870912 | 2^30 =  1073741824 | 2^31 =  2147483648 | 2^32 =  4294967296 | \n",
          "output_type": "stream"
        }
      ],
      "execution_count": 26
    },
    {
      "cell_type": "code",
      "source": "class IPv4:\n    def __init__(self, part1, part2, part3, part4, cidr=None, mask=None):\n        self.part1 = part1\n        self.part2 = part2\n        self.part3 = part3\n        self.part4 = part4\n        if cidr != None:\n            self.cidr = cidr\n            self.mask = self.cidrToMask(cidr)\n        elif mask != None:\n            self.mask = mask\n            self.cidr = self.maskToCIDR()\n        else:\n            self.cidr = 0\n            self.mask = \"255.255.255.255\"\n        self.rangeSize = 2**(32-self.cidr)\n        self.usableRangeSize = self.rangeSize - 2\n        range_addresses = self.subnetRangeAdresses()\n        self.first_sb_adress = range_addresses[0]\n        self.last_sb_adress = range_addresses[1]\n\n    def __str__(self):\n        return f\"{self.part1}.{self.part2}.{self.part3}.{self.part4}\"\n\n    def __format__(self, format_spec):\n        match format_spec:\n            case \"cidr\":\n                return f\"{self.part1}.{self.part2}.{self.part3}.{self.part4}/{self.cidr}\"\n            case \"mask\":\n                return f\"{self.part1}.{self.part2}.{self.part3}.{self.part4}:{self.mask}\"\n        return self.__str__()\n    \n    def cidrToMask(self,cidr):\n        mask = 0\n        for i in range(cidr):\n            mask |= (1<<(31-i))\n        return(f\"{mask>>24}.{mask>>16&0xFF}.{mask>>8&0xFF}.{mask&0xFF}\")\n\n    def subnetRangeAdresses(self):\n        first_sb_adress = (self.part1, self.part2, self.part3, self.part4)\n        last_sb_adress = (self.part1, self.part2, self.part3, self.part4)\n        mask = self.mask\n        mask0, mask8, mask16, mask24 = map(int, mask.split(\".\"))\n        size = 0\n        offset = 0\n        if 32 > self.cidr >= 24:\n            size = 2**(32 - self.cidr)\n            offset = self.part4 % size\n            first_sb_adress = (self.part1, self.part2, self.part3, self.part4 - offset)\n            last_sb_adress = (self.part1, self.part2, self.part3, self.part4 - offset + size - 1)\n        elif 24 > self.cidr >= 16:\n            size = 2**(24 - self.cidr)\n            offset = self.part3 % size\n            first_sb_adress = (self.part1, self.part2, self.part3 - offset, 0)\n            last_sb_adress = (self.part1, self.part2, self.part3 - offset + size - 1, 255)\n        elif 16 > self.cidr >= 8:\n            size = 2**(16 - self.cidr)\n            offset = self.part2 % size\n            first_sb_adress = (self.part1, self.part2 - offset, 0, 0)\n            last_sb_adress = (self.part1, self.part2 - offset + size - 1, 255, 255)\n        elif 8 > self.cidr >= 0:\n            size = 2**(8 - self.cidr)\n            offset = self.part1 % size\n            first_sb_adress = (self.part1 - offset, 0, 0, 0)\n            last_sb_adress = (self.part1 - offset + size - 1, 255, 255, 255)\n        return (first_sb_adress, last_sb_adress)\n\n    def networkAddress(self):\n        mask_parts = list(map(int, self.mask.split('.')))\n        network_part1 = self.part1 & mask_parts[0]\n        network_part2 = self.part2 & mask_parts[1]\n        network_part3 = self.part3 & mask_parts[2]\n        network_part4 = self.part4 & mask_parts[3]\n        return (network_part1, network_part2, network_part3, network_part4)\n\n    def maskToCIDR(self):\n        mask_parts = self.mask.split('.')\n        cidr_count = 0\n        for part in mask_parts:\n            binary_representation = format(int(part), '08b')\n            cidr_count += binary_representation.count('1')\n        return cidr_count\n",
      "metadata": {
        "trusted": true
      },
      "outputs": [],
      "execution_count": 35
    },
    {
      "cell_type": "code",
      "source": "ip1 = IPv4(165,25,129,0,mask=\"255.255.192.0\")\nprint(f\"{ip1:'cidr'}\")\nprint(ip1.cidr)\nprint(ip1.mask)\nprint(ip1.rangeSize)\nprint(ip1.usableRangeSize)\nprint(ip1.cidrToMask(18))",
      "metadata": {
        "trusted": true
      },
      "outputs": [
        {
          "name": "stdout",
          "text": "165.25.129.0\n18\n255.255.192.0\n16384\n16382\n255.255.192.0\n",
          "output_type": "stream"
        }
      ],
      "execution_count": 63
    },
    {
      "cell_type": "code",
      "source": "ip23 = IPv4(100,19,38,52,23)\nprint(ip23.first_sb_adress,ip23.last_sb_adress,sep='->')",
      "metadata": {
        "trusted": true
      },
      "outputs": [
        {
          "name": "stdout",
          "text": "(100, 19, 38, 0)->(100, 19, 39, 255)\n",
          "output_type": "stream"
        }
      ],
      "execution_count": 64
    },
    {
      "cell_type": "code",
      "source": "ip23 = IPv4(100,19,38,52,18)\nprint(ip23.networkAddress())",
      "metadata": {
        "trusted": true
      },
      "outputs": [
        {
          "name": "stdout",
          "text": "(100, 19, 0, 0)\n",
          "output_type": "stream"
        }
      ],
      "execution_count": 65
    },
    {
      "cell_type": "code",
      "source": "",
      "metadata": {
        "trusted": true
      },
      "outputs": [],
      "execution_count": null
    }
  ]
}